{
  "nbformat": 4,
  "nbformat_minor": 0,
  "metadata": {
    "colab": {
      "name": "NordlingLab_Tutorial_Python_Deep_learning.ipynb",
      "provenance": [],
      "collapsed_sections": [],
      "toc_visible": true,
      "include_colab_link": true
    },
    "language_info": {
      "codemirror_mode": {
        "name": "ipython",
        "version": 3
      },
      "file_extension": ".py",
      "mimetype": "text/x-python",
      "name": "python",
      "nbconvert_exporter": "python",
      "pygments_lexer": "ipython3",
      "version": "3.7.3"
    },
    "kernelspec": {
      "display_name": "Python 3",
      "language": "python",
      "name": "python3"
    },
    "accelerator": "GPU"
  },
  "cells": [
    {
      "cell_type": "markdown",
      "metadata": {
        "id": "view-in-github",
        "colab_type": "text"
      },
      "source": [
        "<a href=\"https://colab.research.google.com/github/mikencku/introAI/blob/main/NordlingLab_Tutorial_Python_Deep_learning.ipynb\" target=\"_parent\"><img src=\"https://colab.research.google.com/assets/colab-badge.svg\" alt=\"Open In Colab\"/></a>"
      ]
    },
    {
      "cell_type": "markdown",
      "metadata": {
        "id": "Mx_3oQueJGvV"
      },
      "source": [
        "# Nordling Lab - Python and Deep Learning Tutorial\n",
        "\n"
      ]
    },
    {
      "cell_type": "markdown",
      "metadata": {
        "id": "eahdv4tRLcLE"
      },
      "source": [
        "## Basic programming in Python 3"
      ]
    },
    {
      "cell_type": "markdown",
      "metadata": {
        "id": "sqAjlKOkKbxN"
      },
      "source": [
        "Run the code cells by clicking the play icon in the left gutter \"[  ]\" (or type **Cmd/Ctrl+Enter**)."
      ]
    },
    {
      "cell_type": "code",
      "metadata": {
        "id": "bdTmyk7SnzaJ",
        "colab": {
          "base_uri": "https://localhost:8080/"
        },
        "outputId": "bef33554-210c-47aa-e79f-acf29a7e5aa9"
      },
      "source": [
        "print(\"Hello world!\")"
      ],
      "execution_count": 1,
      "outputs": [
        {
          "output_type": "stream",
          "text": [
            "Hello world!\n"
          ],
          "name": "stdout"
        }
      ]
    },
    {
      "cell_type": "markdown",
      "metadata": {
        "id": "mQ_mt7IE_b19"
      },
      "source": [
        "You can edit all the text and code in this notebook, and also add and delete cells. Since it is in playground mode, nothing will be saved when you close or refresh the page. If you want to make permanent changes you need to make a copy (**File -> Save a copy in Drive...**). \n",
        "\n",
        "[Here](https://colab.research.google.com/notebooks/welcome.ipynb) you can find more info about how to use Colaboratory."
      ]
    },
    {
      "cell_type": "markdown",
      "metadata": {
        "id": "0Is_qqaYLaE0"
      },
      "source": [
        "### Getting help and comments\n",
        "#### Looking for help\n",
        "Some Python modules contain many different functions and commands. You can find more information about a module or function using the ``help\" command. Note that this only works after you have imported the module of interest."
      ]
    },
    {
      "cell_type": "code",
      "metadata": {
        "id": "DR0AOVgmLku0",
        "colab": {
          "base_uri": "https://localhost:8080/"
        },
        "outputId": "c8064a9c-7360-476d-9a62-ad66a4433365"
      },
      "source": [
        "import math #Imports Math module\n",
        "help(math.sin)"
      ],
      "execution_count": 2,
      "outputs": [
        {
          "output_type": "stream",
          "text": [
            "Help on built-in function sin in module math:\n",
            "\n",
            "sin(x, /)\n",
            "    Return the sine of x (measured in radians).\n",
            "\n"
          ],
          "name": "stdout"
        }
      ]
    },
    {
      "cell_type": "markdown",
      "metadata": {
        "id": "mmrnPZFAHpuO"
      },
      "source": [
        "#### Looking for help in Jupyter notebooks\n",
        "In Jupyter you get help by a \"?\" followed by any command or variable. **Tab** gives alternatives or completes a command.\n",
        "Run the code cells by clicking the play icon in the left gutter \"[  ]\" (or type **Cmd/Ctrl+Enter**)."
      ]
    },
    {
      "cell_type": "code",
      "metadata": {
        "id": "yaj88MpEH2Wm"
      },
      "source": [
        "import numpy as np #Imports Numpy module\n",
        "x = np.array([1,2]) #Creates numpy.ndarray object x\n",
        "?x\n"
      ],
      "execution_count": 4,
      "outputs": []
    },
    {
      "cell_type": "markdown",
      "metadata": {
        "id": "8_2rvZtgLuad"
      },
      "source": [
        "#### Comments\n",
        "A comment in Python starts with a “#” and extends throughout\n",
        "the line. Comments are not executed and commonly used to help the reader understand the code. To uncomment, simply remove “#” at the beginning of the line."
      ]
    },
    {
      "cell_type": "code",
      "metadata": {
        "id": "yhzwsTqgLvDt",
        "colab": {
          "base_uri": "https://localhost:8080/"
        },
        "outputId": "c359ede4-6009-496f-b3f9-1ab938056f78"
      },
      "source": [
        "print(\"The code on this line is being executed\")\n",
        "#print (\" While the code in this one isn't\")\n",
        "x=1\n",
        "#x=2 #Demonstrates how to insert a comment\n",
        "print(x)"
      ],
      "execution_count": 5,
      "outputs": [
        {
          "output_type": "stream",
          "text": [
            "The code on this line is being executed\n",
            "1\n"
          ],
          "name": "stdout"
        }
      ]
    },
    {
      "cell_type": "markdown",
      "metadata": {
        "id": "LN5wOfsSYSbA"
      },
      "source": [
        "#### Exercises\n",
        "\n",
        "\n",
        "1.   Obtain help about the ```print()``` function and write a comment explaining what the ```print()``` function does.\n",
        "\n"
      ]
    },
    {
      "cell_type": "code",
      "metadata": {
        "id": "3pxw0Bg1gkP1"
      },
      "source": [
        "#Exercise cell"
      ],
      "execution_count": 6,
      "outputs": []
    },
    {
      "cell_type": "markdown",
      "metadata": {
        "id": "REN3pmEbZ6c_"
      },
      "source": [
        "### Printing\n",
        "#### Print function\n",
        "\n",
        "* The ```print()``` function outputs the specified message to the screen (output device). \n",
        "* The message will be converted into a string (```str```) before printing. \n",
        "* By default ```\\n``` (newline) is added at the end of the line."
      ]
    },
    {
      "cell_type": "code",
      "metadata": {
        "id": "bZ6COVgiaihj",
        "colab": {
          "base_uri": "https://localhost:8080/"
        },
        "outputId": "8dbea93a-fa73-45fb-ba70-b97dd5906eca"
      },
      "source": [
        "print(\"Hello!\", \"Welcome to the Nordling lab\")\n",
        "y=0.95; print(\"It is \" + str(y) + \", i.e.\", 100*y,\"%\") \n",
        "print(\"Here\", type(y), \"was converted to\", type(str(y)))\n",
        "\n",
        "print(\"Hello!\", \"Welcome to the Nordling lab\")\n",
        "y=0.95; print(\"It is \",y, \", i.e.\", 100*y,\"%\") \n",
        "print(\"Here\", type(y), \"was converted to\", type(str(y)))"
      ],
      "execution_count": 8,
      "outputs": [
        {
          "output_type": "stream",
          "text": [
            "Hello! Welcome to the Nordling lab\n",
            "It is 0.95, i.e. 95.0 %\n",
            "Here <class 'float'> was converted to <class 'str'>\n",
            "Hello! Welcome to the Nordling lab\n",
            "It is  0.95 , i.e. 95.0 %\n",
            "Here <class 'float'> was converted to <class 'str'>\n"
          ],
          "name": "stdout"
        }
      ]
    },
    {
      "cell_type": "markdown",
      "metadata": {
        "id": "Sg7tTKzqd0RM"
      },
      "source": [
        "#### Quotations\n",
        "\n",
        "\n",
        "* Strings can be enclosed in matching single quotes (') or double quotes (\") with the same result.\n",
        "* A backslash \"\\\" can be used to escape single quotes, double quotes, backslashes, ..."
      ]
    },
    {
      "cell_type": "code",
      "metadata": {
        "id": "dYgKTfjdeStT",
        "colab": {
          "base_uri": "https://localhost:8080/"
        },
        "outputId": "6f46ff12-47ac-4476-cb94-86c69e2fb241"
      },
      "source": [
        "print('Single quote string:  \\\"example\\'s\\\" ') \n",
        "print(\"Double quote string: backslash \\\\ \")"
      ],
      "execution_count": 9,
      "outputs": [
        {
          "output_type": "stream",
          "text": [
            "Single quote string:  \"example's\" \n",
            "Double quote string: backslash \\ \n"
          ],
          "name": "stdout"
        }
      ]
    },
    {
      "cell_type": "markdown",
      "metadata": {
        "id": "RSr0FMC-fEAM"
      },
      "source": [
        "#### Triple quoted strings\n",
        "\n",
        "* Strings in Python can also be enclosed in matching groups of 3 single or double quotes.\n",
        "* In triple-quoted strings, unescaped newlines, \\ sequences, and quotes are allowed, except for the 3 unescaped quotes in a row that terminate the string."
      ]
    },
    {
      "cell_type": "code",
      "metadata": {
        "id": "ZTVIUtXLfbf-",
        "colab": {
          "base_uri": "https://localhost:8080/"
        },
        "outputId": "c0b82b11-50ed-4e75-8428-a24b567cf46b"
      },
      "source": [
        "print('''Three single quotes --- Jose's example\n",
        "\"something\" on a \\ n \\ o \\ t \\ h \\ e  r line''')\n",
        "print(\"\"\"Three double quotes --- Still Jose's example\n",
        "that \"something\" still works\"\"\")"
      ],
      "execution_count": 10,
      "outputs": [
        {
          "output_type": "stream",
          "text": [
            "Three single quotes --- Jose's example\n",
            "\"something\" on a \\ n \\ o \\ t \\ h \\ e  r line\n",
            "Three double quotes --- Still Jose's example\n",
            "that \"something\" still works\n"
          ],
          "name": "stdout"
        }
      ]
    },
    {
      "cell_type": "markdown",
      "metadata": {
        "id": "QDD6uoXCfouF"
      },
      "source": [
        "#### Exercises\n",
        "\n",
        "1. Print any text of your choosing with at least 3 lines and a bullet point, e.g. your diary entry from last week."
      ]
    },
    {
      "cell_type": "code",
      "metadata": {
        "id": "2xN7zP6FgfTa"
      },
      "source": [
        "#Exercise cell"
      ],
      "execution_count": null,
      "outputs": []
    },
    {
      "cell_type": "markdown",
      "metadata": {
        "id": "tLcDJ0qyLtMM"
      },
      "source": [
        "### Conditional statements and loops\n",
        "#### if, elif, else"
      ]
    },
    {
      "cell_type": "code",
      "metadata": {
        "id": "liiO43RmM9lO",
        "colab": {
          "base_uri": "https://localhost:8080/"
        },
        "outputId": "2cb9a13e-4a09-42b7-a54e-e72142c24fc0"
      },
      "source": [
        "a = 100\n",
        "b = 90\n",
        "if b > a:\n",
        "  print(\"b is greater than a\")\n",
        "elif a == b:\n",
        "  print(\"a and b are equal\")\n",
        "else:\n",
        "  print(\"a is greater than b\")"
      ],
      "execution_count": 11,
      "outputs": [
        {
          "output_type": "stream",
          "text": [
            "a is greater than b\n"
          ],
          "name": "stdout"
        }
      ]
    },
    {
      "cell_type": "markdown",
      "metadata": {
        "id": "DCB7hfihNH0l"
      },
      "source": [
        "#### range, for"
      ]
    },
    {
      "cell_type": "code",
      "metadata": {
        "id": "L3ellWdbNH_N"
      },
      "source": [
        "k=5\n",
        "for i in range(0,k):\n",
        "  print(i)"
      ],
      "execution_count": null,
      "outputs": []
    },
    {
      "cell_type": "markdown",
      "metadata": {
        "id": "RDN-UI4GNrH9"
      },
      "source": [
        "#### while"
      ]
    },
    {
      "cell_type": "code",
      "metadata": {
        "id": "lZboS5AYNrXd"
      },
      "source": [
        "i = 1\n",
        "while i < 7:\n",
        "  print(i)\n",
        "  i += 1"
      ],
      "execution_count": null,
      "outputs": []
    },
    {
      "cell_type": "markdown",
      "metadata": {
        "id": "FGY8_bqsQUd2"
      },
      "source": [
        "#### Exercises\n",
        "\n",
        "1.   Calculate the square of every digit between 0 and 9.\n",
        "2.   For every integer in [0, 9] interval, specify the numbers that\n",
        "are divisible by 2. (Hint: ```int(a)\\%2==0```.)"
      ]
    },
    {
      "cell_type": "code",
      "metadata": {
        "id": "WBhdQ1K9bUCn"
      },
      "source": [
        "#Exercise cell"
      ],
      "execution_count": null,
      "outputs": []
    },
    {
      "cell_type": "markdown",
      "metadata": {
        "id": "ODkH6IRdQil4"
      },
      "source": [
        "### Variables and functions\n",
        "#### Functions\n",
        "\n",
        "In Python, you define a function by using the ```def``` command. A function is a unit of a program containing a sequence of instructions that performs a specific task."
      ]
    },
    {
      "cell_type": "code",
      "metadata": {
        "id": "Q6zwwd7OQr2_",
        "colab": {
          "base_uri": "https://localhost:8080/"
        },
        "outputId": "d02bce45-90a9-424f-8ec6-168bbbbac622"
      },
      "source": [
        "def Triple(x):\n",
        "  return 3*x\n",
        "\n",
        "print(Triple(3))\n",
        "print(Triple(5))\n",
        "print(Triple(9))"
      ],
      "execution_count": 12,
      "outputs": [
        {
          "output_type": "stream",
          "text": [
            "9\n",
            "15\n",
            "27\n"
          ],
          "name": "stdout"
        }
      ]
    },
    {
      "cell_type": "markdown",
      "metadata": {
        "id": "J9UD8FIOQzLu"
      },
      "source": [
        "#### Variables\n",
        "A variable is a storage location in memory that holds a value and is identified by the variable name.  You can use ```input()``` to prompt the user to give a value and store it in a variable. If the variable is empty, then you can give it a default value."
      ]
    },
    {
      "cell_type": "code",
      "metadata": {
        "id": "lJ44Dw2MQ16_",
        "colab": {
          "base_uri": "https://localhost:8080/"
        },
        "outputId": "18b92863-988a-4a95-a82e-557c3045e9a4"
      },
      "source": [
        "a = input(\"a = \")\n",
        "if not a:\n",
        "    a=3\n",
        "if int(a)%2==0:\n",
        "  print(\"a is an even number\")\n",
        "else:\n",
        "  print(\"a is an odd number\")\n"
      ],
      "execution_count": 13,
      "outputs": [
        {
          "output_type": "stream",
          "text": [
            "a = 3\n",
            "a is an odd number\n"
          ],
          "name": "stdout"
        }
      ]
    },
    {
      "cell_type": "markdown",
      "metadata": {
        "id": "A0N-KiADimEb"
      },
      "source": [
        "#### Data types\n",
        "Variables can hold values of different type. A data type is an attribute of the variable that during execution determines how it's value is used, e.g. what operations can be done. Common types are boolean (```bool```), integer (```int```), float, and string (```str```)."
      ]
    },
    {
      "cell_type": "code",
      "metadata": {
        "id": "EaYS96injClK"
      },
      "source": [
        "a=[True, 3+2j] #A list containing a boolean and complex\n",
        "b=(3.5, 2) #A tuple containing a float and integer\n",
        "\n",
        "print(a, type(a), type(a[0]), type(a[1]))\n",
        "print(str(b)+\" apples\", type(b), type(b[0]), type(b[1]))  "
      ],
      "execution_count": null,
      "outputs": []
    },
    {
      "cell_type": "markdown",
      "metadata": {
        "id": "pkYzL7p7REM2"
      },
      "source": [
        "#### Dictionaries\n",
        "A dictionary is a composite data type in Python."
      ]
    },
    {
      "cell_type": "code",
      "metadata": {
        "id": "ynBUgEU0RH2-"
      },
      "source": [
        "thisdict =\t{\n",
        "  \"Name\": [\"Amanda\",\"Mark\"],\n",
        "  \"Job\": [\"Teacher\",\"Doctor\"],\n",
        "  \"Age\": [23,48]\n",
        "}\n",
        "print(thisdict) \n",
        "print(thisdict['Name']) \n",
        "print(thisdict['Name'][1]) "
      ],
      "execution_count": null,
      "outputs": []
    },
    {
      "cell_type": "markdown",
      "metadata": {
        "id": "_NMbjZWdRM7-"
      },
      "source": [
        "#### Classes and inheritance\n",
        "In object oriented programming a class can inherit functions and variables from another class (data type)."
      ]
    },
    {
      "cell_type": "code",
      "metadata": {
        "id": "Xcab-tJ-RRMH",
        "colab": {
          "base_uri": "https://localhost:8080/"
        },
        "outputId": "7f143796-578c-41dc-e8ca-c16f0054160f"
      },
      "source": [
        "class Array: #Defines a new class (data type)\n",
        "    def __init__(self, entry, rows, columns): #Function\n",
        "        self.entry=entry;self.row=rows;self.col=columns\n",
        "    def create_array(self): #Function\n",
        "        rowlist=[] #Creates an empty list\n",
        "        for i in range(0,self.row):\n",
        "            collist=[] #Creates an empty list\n",
        "            for j in range(0,self.col):\n",
        "                collist.append(self.entry) \n",
        "            rowlist.append(collist) \n",
        "        return rowlist\n",
        "x=Array(1,2,3); print(x.create_array())"
      ],
      "execution_count": 14,
      "outputs": [
        {
          "output_type": "stream",
          "text": [
            "[[1, 1, 1], [1, 1, 1]]\n"
          ],
          "name": "stdout"
        }
      ]
    },
    {
      "cell_type": "code",
      "metadata": {
        "id": "gXqTJ6pRmyFZ"
      },
      "source": [
        "class Taiwan(Array): #Defines new class inheriting Array\n",
        "    def __init__(self, entry, rows, columns, taiwan): #Replaces Array function\n",
        "      Array.__init__(self,entry,rows,columns); \n",
        "      self.str=taiwan\n",
        "    def taiwan_array(self): #New function\n",
        "        if(self.str==\"dumplings\"):\n",
        "            self.entry=\"Taiwan\"\n",
        "        x=self.create_array() #Use of Array function\n",
        "        return x\n",
        "y=Taiwan(1,2,2,\"dumplings\") #Creates Taiwan object\n",
        "print(\"I love\", y.taiwan_array())"
      ],
      "execution_count": null,
      "outputs": []
    },
    {
      "cell_type": "markdown",
      "metadata": {
        "id": "Ku-k3S5Nq5xU"
      },
      "source": [
        "#### Modules\n",
        "A module is a file containing Python definitions and statements with its own private symbol table. A package is a collection of modules enabling use of dot notation, e.g. ```np.random.rand```."
      ]
    },
    {
      "cell_type": "code",
      "metadata": {
        "id": "KY-pE4ihq-s6",
        "colab": {
          "base_uri": "https://localhost:8080/"
        },
        "outputId": "6e266e92-0e56-420d-e854-35e9ad1a59be"
      },
      "source": [
        "import numpy as np #Imports package NumPy\n",
        "x=np.array([[1,1],[1,1]], dtype=np.int8) \n",
        "print(x);print(\"Original shape of x is\", x.shape)\n",
        "y=np.random.rand(2) #Uses rand function in module random \n",
        "print(\"Shape of y is\", y.shape, \"and type is\", type(y))"
      ],
      "execution_count": 15,
      "outputs": [
        {
          "output_type": "stream",
          "text": [
            "[[1 1]\n",
            " [1 1]]\n",
            "Original shape of x is (2, 2)\n",
            "Shape of y is (2,) and type is <class 'numpy.ndarray'>\n"
          ],
          "name": "stdout"
        }
      ]
    },
    {
      "cell_type": "markdown",
      "metadata": {
        "id": "hBucgkpZRT8Y"
      },
      "source": [
        "#### Exercises\n",
        "\n",
        "\n",
        "1.   Make different functions for summation, subtraction,\n",
        "multiplication, and division for two input data.\n",
        "2.   Make a dictionary for your personal information (First name,\n",
        "Surname, Age, Job, Length, Weight) and print your First name\n",
        "and Surname.\n",
        "\n"
      ]
    },
    {
      "cell_type": "code",
      "metadata": {
        "id": "gGB3Y8SvbeDg"
      },
      "source": [
        "# Exercise cell"
      ],
      "execution_count": null,
      "outputs": []
    },
    {
      "cell_type": "markdown",
      "metadata": {
        "id": "fiE0rwKGgOqk"
      },
      "source": [
        "### Reading and writing files\n",
        "#### Writing and reading\n",
        "Here we create a .txt file and write some text in it. The \"w\" indicates \"write\" and the plus sign means that we create the file if it does not already exist. We then open the file again for reading. The \"r\" indicates \"read\"."
      ]
    },
    {
      "cell_type": "code",
      "metadata": {
        "id": "iJxLwE0_gRdM",
        "colab": {
          "base_uri": "https://localhost:8080/"
        },
        "outputId": "7b3be66a-d1c0-4dd4-9e97-502fd008d6b6"
      },
      "source": [
        "f = open(\"Demofile.txt\", \"w+\")\n",
        "f.write(\"This is some text we wrote in the file.\")\n",
        "f.close() \n",
        "f = open(\"Demofile.txt\", \"r\")\n",
        "print(f.read())\n",
        "f.close() "
      ],
      "execution_count": 16,
      "outputs": [
        {
          "output_type": "stream",
          "text": [
            "This is some text we wrote in the file.\n"
          ],
          "name": "stdout"
        }
      ]
    },
    {
      "cell_type": "markdown",
      "metadata": {
        "id": "motdjyzSitB8"
      },
      "source": [
        "#### Appending\n",
        "We can also add some text. The \"a\" indicates \"append\"."
      ]
    },
    {
      "cell_type": "code",
      "metadata": {
        "id": "3mvfk6QbiUZ1",
        "colab": {
          "base_uri": "https://localhost:8080/"
        },
        "outputId": "3944950c-f52f-4458-f1f8-33be84988f1f"
      },
      "source": [
        "f = open(\"Demofile.txt\", \"a\")\n",
        "f.write(\"\\nNow the file has one more line!\")\n",
        "f.close() \n",
        "f = open(\"Demofile.txt\", \"r\")\n",
        "print(f.read())\n",
        "f.close() "
      ],
      "execution_count": 17,
      "outputs": [
        {
          "output_type": "stream",
          "text": [
            "This is some text we wrote in the file.\n",
            "Now the file has one more line!\n"
          ],
          "name": "stdout"
        }
      ]
    },
    {
      "cell_type": "markdown",
      "metadata": {
        "id": "vARBPr2kkEHM"
      },
      "source": [
        "#### Exercises\n",
        "\n",
        "1.  Create a Your_name.txt file.\n",
        "2.  Write in Your_name.txt anything you like.\n",
        "3. Read your file.\n",
        "4. Add a sentence to your file."
      ]
    },
    {
      "cell_type": "code",
      "metadata": {
        "id": "mLPt6LerbgJe"
      },
      "source": [
        "# Exercise cell"
      ],
      "execution_count": null,
      "outputs": []
    },
    {
      "cell_type": "markdown",
      "metadata": {
        "id": "PcT4k7cykind"
      },
      "source": [
        "### Error Handling\n",
        "#### Syntax errors\n",
        "Syntax errors are the most basic and common type of error and\n",
        "arise when the Python parser can’t read a line of code. These\n",
        "errors typically cause the program to crash."
      ]
    },
    {
      "cell_type": "code",
      "metadata": {
        "id": "FWwg3bpdknU1",
        "colab": {
          "base_uri": "https://localhost:8080/"
        },
        "outputId": "3e511f35-a4c8-4da3-ca64-e9884bfdebbc"
      },
      "source": [
        "for x in range(6):\n",
        "  print(x)"
      ],
      "execution_count": 18,
      "outputs": [
        {
          "output_type": "stream",
          "text": [
            "0\n",
            "1\n",
            "2\n",
            "3\n",
            "4\n",
            "5\n"
          ],
          "name": "stdout"
        }
      ]
    },
    {
      "cell_type": "markdown",
      "metadata": {
        "id": "UStIxunnkpwF"
      },
      "source": [
        "Here there should be a colon at the end of the for loop’s condition.\n",
        "Some other examples of this error is forgetting to end an if\n",
        "statement with a colon or misspelling any Python command."
      ]
    },
    {
      "cell_type": "markdown",
      "metadata": {
        "id": "vReoS7x2kvYV"
      },
      "source": [
        "#### Exceptions\n",
        "Sometimes even if a statement is syntactically correct, an error\n",
        "may arise when executing it. These errors are referred to as\n",
        "exceptions."
      ]
    },
    {
      "cell_type": "code",
      "metadata": {
        "id": "iGaVJ_-yk58V"
      },
      "source": [
        "x=10/0"
      ],
      "execution_count": null,
      "outputs": []
    },
    {
      "cell_type": "markdown",
      "metadata": {
        "id": "HWFJqfdEk5VV"
      },
      "source": [
        "Some common examples of exceptions are:\n",
        "\n",
        "\n",
        "1.   NameError: Calling an undefined variable/function\n",
        "2.   TypeError: Using the wrong type of data, e.g. adding a str to int\n",
        "\n"
      ]
    },
    {
      "cell_type": "markdown",
      "metadata": {
        "id": "pGjQn40wlRhN"
      },
      "source": [
        "#### Logical errors\n",
        "For logical errors, the program doesn't crash but it produces unpredictable results."
      ]
    },
    {
      "cell_type": "code",
      "metadata": {
        "id": "PSqG5VPjlZbt"
      },
      "source": [
        "x=5\n",
        "y=1\n",
        "z=x+y/2\n",
        "print(\"The mean of the 2 numbers is:\",z)"
      ],
      "execution_count": null,
      "outputs": []
    },
    {
      "cell_type": "markdown",
      "metadata": {
        "id": "-TYpWyibld7N"
      },
      "source": [
        "We wanted to calculate the average of these 2 numbers but due to\n",
        "the arithmetic order of operations, we got the wrong answer."
      ]
    },
    {
      "cell_type": "markdown",
      "metadata": {
        "id": "koyfUhAwq7Hn"
      },
      "source": [
        "## Deep learning with Tensorflow 2.0"
      ]
    },
    {
      "cell_type": "markdown",
      "metadata": {
        "id": "dnmiEW0GAm2d"
      },
      "source": [
        "### Installation of TensorFlow 2.0\n",
        "First, check which version of TensorFlow that is installed."
      ]
    },
    {
      "cell_type": "code",
      "metadata": {
        "id": "QJuKCytFAXQY",
        "colab": {
          "base_uri": "https://localhost:8080/"
        },
        "outputId": "2bca109f-37c5-420c-cb39-259b76885b07"
      },
      "source": [
        "%tensorflow_version 2.x\n",
        "import tensorflow as tf; \n",
        "print(\"Tensorflow version \" + tf.__version__)"
      ],
      "execution_count": 19,
      "outputs": [
        {
          "output_type": "stream",
          "text": [
            "Tensorflow version 2.4.1\n"
          ],
          "name": "stdout"
        }
      ]
    },
    {
      "cell_type": "markdown",
      "metadata": {
        "id": "2TNIP7kDA4HO"
      },
      "source": [
        "Second, only if needed, install TensorFlow 2. NOTE that the following TensorFlow code works in TensorFlow version 1.13.1 to 2.2.0."
      ]
    },
    {
      "cell_type": "code",
      "metadata": {
        "id": "jCFKll6tq7Ho"
      },
      "source": [
        "if int(tf.__version__[0]) < 2:\n",
        "  print(\"Tensorflow version 2.2 is installed to replace version \" + tf.__version__)\n",
        "  !pip install tensorflow==2.2.0-rc3\n",
        "  print(\"Restart Runtime, e.g. by clicking on Restart runtime in Runtime menu.\")"
      ],
      "execution_count": null,
      "outputs": []
    },
    {
      "cell_type": "markdown",
      "metadata": {
        "id": "NvFVjgRHq7Hs"
      },
      "source": [
        "### Loading the MNIST data"
      ]
    },
    {
      "cell_type": "code",
      "metadata": {
        "id": "YvnhNWWYmfWH"
      },
      "source": [
        "import numpy as np\n",
        "\n",
        "from tensorflow.keras import optimizers\n",
        "from tensorflow.keras.preprocessing import image\n",
        "from tensorflow.keras.models import Sequential\n",
        "from tensorflow.keras.layers import Dense, Flatten\n",
        "from tensorflow.keras import utils\n",
        "from tensorflow.keras.datasets import mnist\n",
        "\n",
        "(train_data, train_labels), (test_data,test_labels) = mnist.load_data()"
      ],
      "execution_count": 24,
      "outputs": []
    },
    {
      "cell_type": "markdown",
      "metadata": {
        "id": "W2zR1nIgmiy9"
      },
      "source": [
        "### Preprocessing data and building model\n",
        "\n",
        "Stack layers using [`Sequential()`](https://www.tensorflow.org/api_docs/python/tf/keras/models/Sequential) ans setup hyperparameters using [`model.compile()`](https://www.tensorflow.org/api_docs/python/tf/keras/models/Sequential#compile)\n",
        "\n",
        "#### References for different types of layers\n",
        "\n",
        "- [`Flatten`](https://www.tensorflow.org/api_docs/python/tf/keras/layers/Flatten)\n",
        "- [`Dense`](https://www.tensorflow.org/api_docs/python/tf/keras/layers/Dense)\n",
        "- [`Conv2D`](https://www.tensorflow.org/api_docs/python/tf/keras/layers/Conv2D)"
      ]
    },
    {
      "cell_type": "code",
      "metadata": {
        "id": "jA_44mrTmmt_",
        "colab": {
          "base_uri": "https://localhost:8080/"
        },
        "outputId": "9f3ffbe3-32de-408a-cf17-44aa6918e8bd"
      },
      "source": [
        "test_data = np.expand_dims(test_data, 3)\n",
        "train_data = np.expand_dims(train_data, 3)\n",
        "\n",
        "train_labels = utils.to_categorical(train_labels)\n",
        "test_labels = utils.to_categorical(test_labels)\n",
        "\n",
        "model = Sequential([\n",
        "        Flatten(input_shape=(28,28,1)),\n",
        "        Dense(512, activation='sigmoid'),\n",
        "        Dense(10, activation='softmax')\n",
        "        ])\n",
        "\n",
        "model.compile(optimizer='adam', \n",
        "              loss='categorical_crossentropy',\n",
        "              metrics=['accuracy'])\n",
        "\n",
        "print(test_data.shape)"
      ],
      "execution_count": 25,
      "outputs": [
        {
          "output_type": "stream",
          "text": [
            "(10000, 28, 28, 1)\n"
          ],
          "name": "stdout"
        }
      ]
    },
    {
      "cell_type": "markdown",
      "metadata": {
        "id": "9UMMV4j-mz4-"
      },
      "source": [
        "### Training the model"
      ]
    },
    {
      "cell_type": "code",
      "metadata": {
        "id": "UPBsIf29m4Sl",
        "colab": {
          "base_uri": "https://localhost:8080/"
        },
        "outputId": "be206d28-a1fb-4581-fa3a-292c17bd8bdb"
      },
      "source": [
        "gen=image.ImageDataGenerator()\n",
        "batches=gen.flow(train_data, train_labels, batch_size = 64)\n",
        "test_batches=gen.flow(test_data, test_labels, batch_size = 64)\n",
        "\n",
        "model.fit_generator(batches, batches.n, epochs=1,\n",
        "                    validation_data=test_batches,\n",
        "                    validation_steps=test_batches.n)"
      ],
      "execution_count": 22,
      "outputs": [
        {
          "output_type": "stream",
          "text": [
            "/usr/local/lib/python3.7/dist-packages/tensorflow/python/keras/engine/training.py:1844: UserWarning: `Model.fit_generator` is deprecated and will be removed in a future version. Please use `Model.fit`, which supports generators.\n",
            "  warnings.warn('`Model.fit_generator` is deprecated and '\n"
          ],
          "name": "stderr"
        },
        {
          "output_type": "stream",
          "text": [
            "  922/60000 [..............................] - ETA: 2:41 - loss: 0.5890 - accuracy: 0.8366WARNING:tensorflow:Your input ran out of data; interrupting training. Make sure that your dataset or generator can generate at least `steps_per_epoch * epochs` batches (in this case, 60000 batches). You may need to use the repeat() function when building your dataset.\n",
            "WARNING:tensorflow:Your input ran out of data; interrupting training. Make sure that your dataset or generator can generate at least `steps_per_epoch * epochs` batches (in this case, 10000 batches). You may need to use the repeat() function when building your dataset.\n",
            "60000/60000 [==============================] - 6s 55us/step - loss: 0.3945 - accuracy: 0.8924 - val_loss: 0.2886 - val_accuracy: 0.9207\n"
          ],
          "name": "stdout"
        },
        {
          "output_type": "execute_result",
          "data": {
            "text/plain": [
              "<tensorflow.python.keras.callbacks.History at 0x7f75bbe86c90>"
            ]
          },
          "metadata": {
            "tags": []
          },
          "execution_count": 22
        }
      ]
    },
    {
      "cell_type": "markdown",
      "metadata": {
        "id": "GTLhbZiaq7H4"
      },
      "source": [
        "### Save model\n",
        "\n",
        "Once you finish the training, save your model for future use using [`model.save`](https://www.tensorflow.org/api_docs/python/tf/keras/models/Model#save)."
      ]
    },
    {
      "cell_type": "code",
      "metadata": {
        "id": "crXGbdscq7H5"
      },
      "source": [
        "model.save('mnist_dense_1_layer_sigmoid_sgd.h5')"
      ],
      "execution_count": null,
      "outputs": []
    },
    {
      "cell_type": "markdown",
      "metadata": {
        "id": "wZ1rCsPjq7H-"
      },
      "source": [
        "### Load model\n",
        "\n",
        "Use [`load_model`](https://www.tensorflow.org/api_docs/python/tf/keras/models/load_model) to load `.h5` files."
      ]
    },
    {
      "cell_type": "code",
      "metadata": {
        "id": "qA6WqhvTq7H-"
      },
      "source": [
        "from tensorflow.keras.models import load_model\n",
        "\n",
        "del model  # deletes the existing model\n",
        "model = load_model('mnist_dense_1_layer_sigmoid_sgd.h5')"
      ],
      "execution_count": null,
      "outputs": []
    },
    {
      "cell_type": "markdown",
      "metadata": {
        "id": "uLcddK_CqdGP"
      },
      "source": [
        "### Exercises\n",
        "\n",
        "Retrain the model with these new parameters and observe how\n",
        "the test accuracy is affected:\n",
        "\n",
        "1.   Modify the model to have 2 hidden layers instead of 1\n",
        "2.   Make the hidden layers use the Relu activation function\n",
        "3.  Change the neural network’s optimizer to Adaptive moment estimator (Adam)\n",
        "\n"
      ]
    },
    {
      "cell_type": "code",
      "metadata": {
        "id": "FVC8uiulbjIm"
      },
      "source": [
        "# Exercise cell"
      ],
      "execution_count": null,
      "outputs": []
    },
    {
      "cell_type": "markdown",
      "metadata": {
        "id": "tBe2aibXry2H"
      },
      "source": [
        "## Futher reading\n",
        "\n"
      ]
    },
    {
      "cell_type": "markdown",
      "metadata": {
        "id": "Y8VmxMUKqj0_"
      },
      "source": [
        "1. [Python tutorial by\n",
        "examples](https://www.w3schools.com/python/)\n",
        "2. [Python\n",
        "programming in Youtube](https://www.youtube.com/watch?v=PoJainBbcr0&list=PL1Bjrbx1Tsx3TELwcMDRlxVjR8uv47o17)\n",
        "3. [Python installation guide for several OS](https://realpython.com/installing-python/)\n",
        "3.  [Tensorflow\n",
        "installation guide for several OS](https://www.tensorflow.org/install/)\n",
        "4. [Tensorflow’s\n",
        "list of tutorials using Keras](https://www.tensorflow.org/tutorials/)\n",
        "5. [AZ index of Windows PowerShell\n",
        "commands](https://ss64.com/ps/)\n",
        "6. [Official Python website](https://www.python.org/)\n",
        "7. [Atom text editor download site]( https://atom.io/)\n",
        "\n"
      ]
    }
  ]
}